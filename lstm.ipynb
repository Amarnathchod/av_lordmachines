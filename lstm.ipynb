{
 "cells": [
  {
   "cell_type": "code",
   "execution_count": 0,
   "metadata": {
    "colab": {
     "autoexec": {
      "startup": false,
      "wait_interval": 0
     }
    },
    "colab_type": "code",
    "id": "1wB8EOLGKyPE"
   },
   "outputs": [],
   "source": [
    "from keras.models import Sequential\n",
    "from keras.layers.core import Dense, Dropout, Activation\n",
    "from keras.layers import Merge, TimeDistributed, concatenate, Bidirectional, Masking, RepeatVector\n",
    "from keras.layers.embeddings import Embedding\n",
    "from keras.layers.recurrent import LSTM, GRU, SimpleRNN\n",
    "from keras.preprocessing.sequence import pad_sequences\n",
    "from keras.layers.convolutional import Convolution1D, MaxPooling1D\n",
    "from keras.callbacks import Callback\n",
    "from keras.layers import Dense,Input,LSTM,Bidirectional,Activation,Conv1D,GRU, Conv2D\n",
    "from keras.callbacks import Callback, History\n",
    "from keras.layers import Dropout,Embedding,GlobalMaxPooling1D, MaxPooling1D, Add, Flatten\n",
    "from keras.preprocessing import text, sequence\n",
    "from keras.layers import GlobalAveragePooling1D, GlobalMaxPooling1D, concatenate, SpatialDropout1D, Masking\n",
    "from keras import initializers, regularizers, constraints, optimizers, layers, callbacks\n",
    "from keras.callbacks import EarlyStopping,ModelCheckpoint\n",
    "from keras.models import Model\n",
    "from keras.optimizers import Adam\n",
    "from sklearn.model_selection import train_test_split\n",
    "from sklearn.metrics import accuracy_score\n",
    "from sklearn.metrics import roc_auc_score"
   ]
  },
  {
   "cell_type": "code",
   "execution_count": 0,
   "metadata": {
    "colab": {
     "autoexec": {
      "startup": false,
      "wait_interval": 0
     }
    },
    "colab_type": "code",
    "id": "a7YM8iOuKyCU"
   },
   "outputs": [],
   "source": [
    "%matplotlib inline\n",
    "import pandas as pd\n",
    "import numpy as np\n",
    "# import lightgbm as lgb\n",
    "from sklearn.linear_model import LogisticRegression\n",
    "from sklearn.model_selection import train_test_split\n",
    "from sklearn.preprocessing import MaxAbsScaler,MinMaxScaler\n",
    "from sklearn.pipeline import Pipeline\n",
    "import matplotlib.pyplot as plt"
   ]
  },
  {
   "cell_type": "code",
   "execution_count": 0,
   "metadata": {
    "colab": {
     "autoexec": {
      "startup": false,
      "wait_interval": 0
     }
    },
    "colab_type": "code",
    "id": "oa8zhndYKyCa"
   },
   "outputs": [],
   "source": [
    "train= pd.read_csv('train.csv')\n",
    "test= pd.read_csv('test_BDIfz5B.csv')\n",
    "campaign_df= pd.read_csv('campaign_data.csv')"
   ]
  },
  {
   "cell_type": "code",
   "execution_count": 0,
   "metadata": {
    "colab": {
     "autoexec": {
      "startup": false,
      "wait_interval": 0
     }
    },
    "colab_type": "code",
    "id": "BM5dBdV_KyEY"
   },
   "outputs": [],
   "source": [
    "train_df= train.merge(campaign_df,how='left')\n",
    "test_df= test.merge(campaign_df,how='left')"
   ]
  },
  {
   "cell_type": "code",
   "execution_count": 0,
   "metadata": {
    "colab": {
     "autoexec": {
      "startup": false,
      "wait_interval": 0
     }
    },
    "colab_type": "code",
    "id": "IzhZ-LitKyEf"
   },
   "outputs": [],
   "source": [
    "train_df.send_date=pd.to_datetime(train_df.send_date,format=\"%d-%m-%Y %H:%M\")"
   ]
  },
  {
   "cell_type": "code",
   "execution_count": 0,
   "metadata": {
    "colab": {
     "autoexec": {
      "startup": false,
      "wait_interval": 0
     }
    },
    "colab_type": "code",
    "id": "FEYTJLOrKyMb"
   },
   "outputs": [],
   "source": [
    "sentences=train_df.groupby('user_id').is_click.apply(lambda x: list(x))"
   ]
  },
  {
   "cell_type": "code",
   "execution_count": 0,
   "metadata": {
    "colab": {
     "autoexec": {
      "startup": false,
      "wait_interval": 0
     }
    },
    "colab_type": "code",
    "id": "FjfydUWPKyMl"
   },
   "outputs": [],
   "source": [
    "sentences_open = train_df.groupby('user_id').is_open.apply(lambda x: list(x))"
   ]
  },
  {
   "cell_type": "code",
   "execution_count": 0,
   "metadata": {
    "colab": {
     "autoexec": {
      "startup": false,
      "wait_interval": 0
     }
    },
    "colab_type": "code",
    "id": "onK2KcK1KyNP"
   },
   "outputs": [],
   "source": [
    "train_df['communication_id'],invercom= pd.factorize(train_df.communication_type)"
   ]
  },
  {
   "cell_type": "code",
   "execution_count": 0,
   "metadata": {
    "colab": {
     "autoexec": {
      "startup": false,
      "wait_interval": 0
     }
    },
    "colab_type": "code",
    "id": "m8G_5wGJKyNd"
   },
   "outputs": [],
   "source": [
    "sentences_days = train_df.groupby('user_id').no_of_sections.apply(lambda x: list(x))"
   ]
  },
  {
   "cell_type": "code",
   "execution_count": 0,
   "metadata": {
    "colab": {
     "autoexec": {
      "startup": false,
      "wait_interval": 0
     }
    },
    "colab_type": "code",
    "id": "1-vjG9j1KyNg"
   },
   "outputs": [],
   "source": [
    "sentences_com = train_df.groupby('user_id').no_of_images.apply(lambda x: list(x))"
   ]
  },
  {
   "cell_type": "code",
   "execution_count": 0,
   "metadata": {
    "colab": {
     "autoexec": {
      "startup": false,
      "wait_interval": 0
     }
    },
    "colab_type": "code",
    "id": "V19wlcxowGs1"
   },
   "outputs": [],
   "source": [
    "sentences_links = train_df.groupby('user_id').total_links.apply(lambda x: list(x))"
   ]
  },
  {
   "cell_type": "code",
   "execution_count": 0,
   "metadata": {
    "colab": {
     "autoexec": {
      "startup": false,
      "wait_interval": 0
     }
    },
    "colab_type": "code",
    "id": "TJRWvekdKyNk"
   },
   "outputs": [],
   "source": [
    "sennew=zip(sentences, sentences_open,sentences_days,sentences_com,sentences_links)"
   ]
  },
  {
   "cell_type": "code",
   "execution_count": 0,
   "metadata": {
    "colab": {
     "autoexec": {
      "startup": false,
      "wait_interval": 0
     }
    },
    "colab_type": "code",
    "id": "oLH1TRCcKyNl"
   },
   "outputs": [],
   "source": [
    "sequences_ori=pad_sequences(pd.Series(sennew).apply(lambda x: zip(x[0],x[1])).tolist(),value=-1,padding='pre')"
   ]
  },
  {
   "cell_type": "code",
   "execution_count": 0,
   "metadata": {
    "colab": {
     "autoexec": {
      "startup": false,
      "wait_interval": 0
     }
    },
    "colab_type": "code",
    "id": "jPCXglb8KyOA"
   },
   "outputs": [],
   "source": [
    "sentences2=sentences[sentences.apply(lambda x: len(x))>1]"
   ]
  },
  {
   "cell_type": "code",
   "execution_count": 0,
   "metadata": {
    "colab": {
     "autoexec": {
      "startup": false,
      "wait_interval": 0
     }
    },
    "colab_type": "code",
    "id": "CJCBvAfIKyOX"
   },
   "outputs": [],
   "source": [
    "sentences_open2 = sentences_open[sentences_open.apply(lambda x: len(x))>1]"
   ]
  },
  {
   "cell_type": "code",
   "execution_count": 0,
   "metadata": {
    "colab": {
     "autoexec": {
      "startup": false,
      "wait_interval": 0
     }
    },
    "colab_type": "code",
    "id": "uNKsZ5LaKyOc"
   },
   "outputs": [],
   "source": [
    "sentences_days2= sentences_days[sentences_days.apply(lambda x: len(x)>1)]"
   ]
  },
  {
   "cell_type": "code",
   "execution_count": 0,
   "metadata": {
    "colab": {
     "autoexec": {
      "startup": false,
      "wait_interval": 0
     }
    },
    "colab_type": "code",
    "id": "k3FAD5qUKyOg"
   },
   "outputs": [],
   "source": [
    "sentences_com2= sentences_com[sentences_com.apply(lambda x: len(x)>1)]"
   ]
  },
  {
   "cell_type": "code",
   "execution_count": 0,
   "metadata": {
    "colab": {
     "autoexec": {
      "startup": false,
      "wait_interval": 0
     }
    },
    "colab_type": "code",
    "id": "8aFn0ROiwTE7"
   },
   "outputs": [],
   "source": [
    "sentences_links2= sentences_links[sentences_links.apply(lambda x: len(x)>1)]"
   ]
  },
  {
   "cell_type": "code",
   "execution_count": 0,
   "metadata": {
    "colab": {
     "autoexec": {
      "startup": false,
      "wait_interval": 0
     }
    },
    "colab_type": "code",
    "id": "MYxADjpvKyOj"
   },
   "outputs": [],
   "source": [
    "sennew=zip(sentences2, sentences_open2,sentences_days2,sentences_com2,sentences_links2)\n",
    "# seqser=pd.concat((pd.Series(sennew).apply(lambda x: zip(x[0],x[1])).apply(lambda x: random.sample(x,len(x))),\n",
    "# pd.Series(sennew).apply(lambda x: zip(x[0],x[1]))))\n",
    "seqser=pd.Series(sennew).apply(lambda x: zip(x[0],x[1]))\n",
    "sequences=pad_sequences(seqser.tolist(),value=-1,padding='pre')"
   ]
  },
  {
   "cell_type": "code",
   "execution_count": 25,
   "metadata": {
    "colab": {
     "autoexec": {
      "startup": false,
      "wait_interval": 0
     },
     "base_uri": "https://localhost:8080/",
     "height": 34,
     "output_extras": [
      {
       "item_id": 1
      }
     ]
    },
    "colab_type": "code",
    "executionInfo": {
     "elapsed": 831,
     "status": "ok",
     "timestamp": 1522567954699,
     "user": {
      "displayName": "Akash Gupta",
      "photoUrl": "//lh4.googleusercontent.com/-lbaoCqdKDCg/AAAAAAAAAAI/AAAAAAAAMhQ/YGRqD6U9Se8/s50-c-k-no/photo.jpg",
      "userId": "111901583339877553911"
     },
     "user_tz": -330
    },
    "id": "uYRxrqD4KyOn",
    "outputId": "6376fd65-b2f0-4a64-e79b-4f37ea555717"
   },
   "outputs": [
    {
     "data": {
      "text/plain": [
       "20"
      ]
     },
     "execution_count": 25,
     "metadata": {
      "tags": []
     },
     "output_type": "execute_result"
    }
   ],
   "source": [
    "sentences_links2.apply(lambda x: len(x)).max()"
   ]
  },
  {
   "cell_type": "code",
   "execution_count": 149,
   "metadata": {
    "colab": {
     "autoexec": {
      "startup": false,
      "wait_interval": 0
     },
     "base_uri": "https://localhost:8080/",
     "height": 34,
     "output_extras": [
      {
       "item_id": 1
      }
     ]
    },
    "colab_type": "code",
    "executionInfo": {
     "elapsed": 1128,
     "status": "ok",
     "timestamp": 1522577949845,
     "user": {
      "displayName": "Akash Gupta",
      "photoUrl": "//lh4.googleusercontent.com/-lbaoCqdKDCg/AAAAAAAAAAI/AAAAAAAAMhQ/YGRqD6U9Se8/s50-c-k-no/photo.jpg",
      "userId": "111901583339877553911"
     },
     "user_tz": -330
    },
    "id": "76wQldP6KyO1",
    "outputId": "cc802a92-9e43-46ac-db15-d62e91c6f276"
   },
   "outputs": [
    {
     "data": {
      "text/plain": [
       "(151470, 20, 2)"
      ]
     },
     "execution_count": 149,
     "metadata": {
      "tags": []
     },
     "output_type": "execute_result"
    }
   ],
   "source": [
    "sequences.shape"
   ]
  },
  {
   "cell_type": "code",
   "execution_count": 150,
   "metadata": {
    "colab": {
     "autoexec": {
      "startup": false,
      "wait_interval": 0
     },
     "base_uri": "https://localhost:8080/",
     "height": 34,
     "output_extras": [
      {
       "item_id": 1
      }
     ]
    },
    "colab_type": "code",
    "executionInfo": {
     "elapsed": 1231,
     "status": "ok",
     "timestamp": 1522577951279,
     "user": {
      "displayName": "Akash Gupta",
      "photoUrl": "//lh4.googleusercontent.com/-lbaoCqdKDCg/AAAAAAAAAAI/AAAAAAAAMhQ/YGRqD6U9Se8/s50-c-k-no/photo.jpg",
      "userId": "111901583339877553911"
     },
     "user_tz": -330
    },
    "id": "rMXWBN8qKyPB",
    "outputId": "e282b7ee-dc48-40a7-ca92-f407b7677033"
   },
   "outputs": [
    {
     "data": {
      "text/plain": [
       "(168236, 20, 2)"
      ]
     },
     "execution_count": 150,
     "metadata": {
      "tags": []
     },
     "output_type": "execute_result"
    }
   ],
   "source": [
    "sequences_ori.shape"
   ]
  },
  {
   "cell_type": "code",
   "execution_count": 0,
   "metadata": {
    "colab": {
     "autoexec": {
      "startup": false,
      "wait_interval": 0
     }
    },
    "colab_type": "code",
    "id": "4Ha3DVMEKyPa"
   },
   "outputs": [],
   "source": [
    "train_X= sequences[:,:-1]\n",
    "train_Y = sequences[:,-1]"
   ]
  },
  {
   "cell_type": "code",
   "execution_count": 0,
   "metadata": {
    "colab": {
     "autoexec": {
      "startup": false,
      "wait_interval": 0
     }
    },
    "colab_type": "code",
    "id": "H1y6WnbOKyPf"
   },
   "outputs": [],
   "source": [
    "train_Y= train_Y[:,0]"
   ]
  },
  {
   "cell_type": "code",
   "execution_count": 178,
   "metadata": {
    "colab": {
     "autoexec": {
      "startup": false,
      "wait_interval": 0
     },
     "base_uri": "https://localhost:8080/",
     "height": 34,
     "output_extras": [
      {
       "item_id": 1
      }
     ]
    },
    "colab_type": "code",
    "executionInfo": {
     "elapsed": 942,
     "status": "ok",
     "timestamp": 1522578849746,
     "user": {
      "displayName": "Akash Gupta",
      "photoUrl": "//lh4.googleusercontent.com/-lbaoCqdKDCg/AAAAAAAAAAI/AAAAAAAAMhQ/YGRqD6U9Se8/s50-c-k-no/photo.jpg",
      "userId": "111901583339877553911"
     },
     "user_tz": -330
    },
    "id": "FHdF-ZMzKyPp",
    "outputId": "95c51c2a-0278-48c9-ab55-d9fabe1ec1fa"
   },
   "outputs": [
    {
     "data": {
      "text/plain": [
       "(151470, 19, 4)"
      ]
     },
     "execution_count": 178,
     "metadata": {
      "tags": []
     },
     "output_type": "execute_result"
    }
   ],
   "source": [
    "train_X.shape"
   ]
  },
  {
   "cell_type": "code",
   "execution_count": 0,
   "metadata": {
    "colab": {
     "autoexec": {
      "startup": false,
      "wait_interval": 0
     }
    },
    "colab_type": "code",
    "id": "y5dWrSNTKyQF"
   },
   "outputs": [],
   "source": [
    "class RocAucEvaluation(Callback):\n",
    "    def __init__(self, validation_data=(), interval=1):\n",
    "        super(Callback, self).__init__()\n",
    "\n",
    "        self.interval = interval\n",
    "        self.X_val, self.y_val = validation_data\n",
    "\n",
    "    def on_epoch_end(self, epoch, logs={}):\n",
    "        if epoch % self.interval == 0:\n",
    "            y_pred = self.model.predict(self.X_val, verbose=0)\n",
    "            score = roc_auc_score(self.y_val, y_pred)\n",
    "            print(\"\\n ROC-AUC - epoch: {:d} - score: {:.6f}\".format(epoch+1, score))"
   ]
  },
  {
   "cell_type": "code",
   "execution_count": 179,
   "metadata": {
    "colab": {
     "autoexec": {
      "startup": false,
      "wait_interval": 0
     },
     "base_uri": "https://localhost:8080/",
     "height": 68,
     "output_extras": [
      {
       "item_id": 1
      }
     ]
    },
    "colab_type": "code",
    "executionInfo": {
     "elapsed": 1548,
     "status": "ok",
     "timestamp": 1522578889874,
     "user": {
      "displayName": "Akash Gupta",
      "photoUrl": "//lh4.googleusercontent.com/-lbaoCqdKDCg/AAAAAAAAAAI/AAAAAAAAMhQ/YGRqD6U9Se8/s50-c-k-no/photo.jpg",
      "userId": "111901583339877553911"
     },
     "user_tz": -330
    },
    "id": "fI7EvwzDKyQJ",
    "outputId": "454141ff-322d-4772-a400-f695edd49542"
   },
   "outputs": [
    {
     "name": "stdout",
     "output_type": "stream",
     "text": [
      "(None, 250)\n",
      "(None, 250)\n",
      "(None, 1)\n"
     ]
    }
   ],
   "source": [
    "\n",
    "# define nn model\n",
    "# emdedding_size=500\n",
    "# vocab_size=5502\n",
    "keras_model2 = Sequential()\n",
    "keras_model2.add(Masking(mask_value=-1. ,input_shape=(None,2)))\n",
    "# keras_model2.add(Embedding(input_dim=vocab_size, output_dim=emdedding_size, \n",
    "#                     weights=[pretrained_weights]))\n",
    "# keras_model2/.add(LSTM(units=100,return_sequences=True))\n",
    "# keras_model2.add(Conv1D(64, kernel_size = 3, padding = \"valid\", kernel_initializer = \"glorot_uniform\",input_shape=(None,4)))\n",
    "# keras_model2.add(MaxPooling1D())\n",
    "# print keras_model2.output_shape\n",
    "# keras_model2.add(Conv1D(300, 3, padding='valid',activation='relu',strides=1 ,input_shape=(None,4)))\n",
    "# keras_model2.add(Conv1D(150, 3, padding='valid',activation='relu',strides=2))\n",
    "# keras_model2.add(Conv1D(75, 3, padding='valid',activation='relu',strides=2))\n",
    "# keras_model2.add(Flatten())\n",
    "# keras_model2.add(Dropout(0.2))\n",
    "# model.add(Dense(150,activation='sigmoid'))\n",
    "# model.add(Dropout(0.2))\n",
    "# keras_model2.add(Conv1D(100,\n",
    "#                  3,\n",
    "#                  padding='valid',\n",
    "#                  activation='relu',\n",
    "#                  strides=1,input_shape=(None,4)))\n",
    "# we use max pooling:\n",
    "# keras_model2.add(GlobalMaxPooling1D())\n",
    "keras_model2.add((LSTM(units=100,return_sequences=False,recurrent_dropout=0.2)))\n",
    "# keras_model2.add((GRU(units=100,return_sequences=False,recurrent_dropout=0.2)))\n",
    "# keras_model2.add(Conv1D(300, 3, padding='valid',activation='relu',strides=2 ,input_shape=(None,4)))\n",
    "# keras_model2.add(Conv1D(150, 3, padding='valid',activation='relu',strides=2))\n",
    "# keras_model2.add(Conv1D(75, 3, padding='valid',activation='relu',strides=2))\n",
    "# keras_model2.add(Flatten())\n",
    "print keras_model2.output_shape\n",
    "# keras_model2.add(Conv1D(32, kernel_size = 3, padding = \"valid\", kernel_initializer = \"glorot_uniform\"))\n",
    "# print keras_model2.output_shape\n",
    "# keras_model2.add(GlobalMaxPooling1D())\n",
    "print keras_model2.output_shape\n",
    "\n",
    "keras_model2.add(Dropout(0.2))\n",
    "# keras_model2.add(LSTM(units=500,return_sequences=False))\n",
    "keras_model2.add(Dense(units=100))\n",
    "keras_model2.add(Dropout(0.2))\n",
    "keras_model2.add(Dense(units=10))\n",
    "keras_model2.add(Dropout(0.2))\n",
    "# keras_model2.add(Dense(units=5))\n",
    "# keras_model2.add(Dropout(0.2))\n",
    "\n",
    "keras_model2.add(Dense(units=1))\n",
    "print keras_model2.output_shape\n",
    "keras_model2.add(Activation('sigmoid'))\n",
    "keras_model2.compile(optimizer='Adamax', loss='binary_crossentropy',metrics=['accuracy','mse'])"
   ]
  },
  {
   "cell_type": "code",
   "execution_count": 0,
   "metadata": {
    "colab": {
     "autoexec": {
      "startup": false,
      "wait_interval": 0
     }
    },
    "colab_type": "code",
    "id": "WRgCCoQ3fohC"
   },
   "outputs": [],
   "source": [
    "# train_X=np.concatenate((np.ones_like(train_X[:,0]).reshape(train_X.shape[0],-1,4)*-1,train_X),axis=1)"
   ]
  },
  {
   "cell_type": "code",
   "execution_count": 0,
   "metadata": {
    "colab": {
     "autoexec": {
      "startup": false,
      "wait_interval": 0
     }
    },
    "colab_type": "code",
    "id": "mVEm8KAfKyQR"
   },
   "outputs": [],
   "source": [
    "xtrain, xval, ytrain, yval = train_test_split(train_X, train_Y, test_size=0.1, random_state=7)"
   ]
  },
  {
   "cell_type": "code",
   "execution_count": 182,
   "metadata": {
    "colab": {
     "autoexec": {
      "startup": false,
      "wait_interval": 0
     },
     "base_uri": "https://localhost:8080/",
     "height": 34,
     "output_extras": [
      {
       "item_id": 1
      }
     ]
    },
    "colab_type": "code",
    "executionInfo": {
     "elapsed": 1575,
     "status": "ok",
     "timestamp": 1522578897238,
     "user": {
      "displayName": "Akash Gupta",
      "photoUrl": "//lh4.googleusercontent.com/-lbaoCqdKDCg/AAAAAAAAAAI/AAAAAAAAMhQ/YGRqD6U9Se8/s50-c-k-no/photo.jpg",
      "userId": "111901583339877553911"
     },
     "user_tz": -330
    },
    "id": "NbQi0fReKyQc",
    "outputId": "0b85153a-b365-4b5f-f093-f63a2077cc91"
   },
   "outputs": [
    {
     "data": {
      "text/plain": [
       "((151470, 19, 4), (136323, 19, 4), (15147, 19, 4))"
      ]
     },
     "execution_count": 182,
     "metadata": {
      "tags": []
     },
     "output_type": "execute_result"
    }
   ],
   "source": [
    "train_X.shape, xtrain.shape, xval.shape"
   ]
  },
  {
   "cell_type": "code",
   "execution_count": 0,
   "metadata": {
    "colab": {
     "autoexec": {
      "startup": false,
      "wait_interval": 0
     }
    },
    "colab_type": "code",
    "id": "7efnrfCLKyQi"
   },
   "outputs": [],
   "source": [
    "# filepath=\"../input/best-model/best.hdf5\"\n",
    "import pickle\n",
    "filename_m= 'lstm_'\n",
    "pickle.dump(keras_model2.to_json(),open(filename_m+'.pkl','w'))\n",
    "filepath=filename_m+\"weights-improvement-{epoch:02d}-{val_acc:.2f}.hdf5\"\n",
    "checkpoint = ModelCheckpoint(filepath, monitor='val_acc', verbose=1, save_best_only=False, mode='max')\n",
    "ra_val = RocAucEvaluation(validation_data=(xval, yval), interval = 1)\n",
    "callbacks_list = [checkpoint,ra_val]"
   ]
  },
  {
   "cell_type": "code",
   "execution_count": 0,
   "metadata": {
    "colab": {
     "autoexec": {
      "startup": false,
      "wait_interval": 0
     }
    },
    "colab_type": "code",
    "id": "7a75OYPhKyQk"
   },
   "outputs": [],
   "source": [
    "sample_weight=np.concatenate((np.ones(train_X.shape[0]/3)*3,np.ones(train_X.shape[0]/3)*2,\n",
    "                              np.ones(train_X.shape[0]/3)))"
   ]
  },
  {
   "cell_type": "code",
   "execution_count": 185,
   "metadata": {
    "colab": {
     "autoexec": {
      "startup": false,
      "wait_interval": 0
     },
     "base_uri": "https://localhost:8080/",
     "height": 34,
     "output_extras": [
      {
       "item_id": 1
      }
     ]
    },
    "colab_type": "code",
    "executionInfo": {
     "elapsed": 950,
     "status": "ok",
     "timestamp": 1522578912424,
     "user": {
      "displayName": "Akash Gupta",
      "photoUrl": "//lh4.googleusercontent.com/-lbaoCqdKDCg/AAAAAAAAAAI/AAAAAAAAMhQ/YGRqD6U9Se8/s50-c-k-no/photo.jpg",
      "userId": "111901583339877553911"
     },
     "user_tz": -330
    },
    "id": "NE51h98Q1Unz",
    "outputId": "59ed1c69-b698-4d2c-d5d1-0d0f8c8ed41c"
   },
   "outputs": [
    {
     "data": {
      "text/plain": [
       "(136323, 19, 4)"
      ]
     },
     "execution_count": 185,
     "metadata": {
      "tags": []
     },
     "output_type": "execute_result"
    }
   ],
   "source": [
    "xtrain.shape"
   ]
  },
  {
   "cell_type": "code",
   "execution_count": 186,
   "metadata": {
    "colab": {
     "autoexec": {
      "startup": false,
      "wait_interval": 0
     },
     "base_uri": "https://localhost:8080/",
     "height": 10271,
     "output_extras": [
      {
       "item_id": 21
      },
      {
       "item_id": 40
      },
      {
       "item_id": 57
      },
      {
       "item_id": 76
      },
      {
       "item_id": 94
      },
      {
       "item_id": 112
      },
      {
       "item_id": 130
      },
      {
       "item_id": 146
      },
      {
       "item_id": 164
      },
      {
       "item_id": 182
      },
      {
       "item_id": 201
      },
      {
       "item_id": 220
      },
      {
       "item_id": 239
      },
      {
       "item_id": 258
      },
      {
       "item_id": 274
      },
      {
       "item_id": 292
      },
      {
       "item_id": 311
      },
      {
       "item_id": 331
      },
      {
       "item_id": 349
      },
      {
       "item_id": 365
      },
      {
       "item_id": 366
      }
     ]
    },
    "colab_type": "code",
    "executionInfo": {
     "elapsed": 174954,
     "status": "ok",
     "timestamp": 1522579089258,
     "user": {
      "displayName": "Akash Gupta",
      "photoUrl": "//lh4.googleusercontent.com/-lbaoCqdKDCg/AAAAAAAAAAI/AAAAAAAAMhQ/YGRqD6U9Se8/s50-c-k-no/photo.jpg",
      "userId": "111901583339877553911"
     },
     "user_tz": -330
    },
    "id": "xThDJdWpKyQm",
    "outputId": "9fba9908-8f87-416c-b456-834cd6046ccb"
   },
   "outputs": [
    {
     "name": "stdout",
     "output_type": "stream",
     "text": [
      "Train on 136323 samples, validate on 15147 samples\n",
      "Epoch 1/100\n",
      "136323/136323 [==============================] - 2s 14us/step - loss: 0.1457 - acc: 0.9833 - mean_squared_error: 0.0156 - val_loss: 0.0832 - val_acc: 0.9877 - val_mean_squared_error: 0.0124\n",
      "\n",
      "Epoch 00001: saving model to cnncorrectorderweights-improvement-01-0.99.hdf5\n",
      "\n",
      " ROC-AUC - epoch: 1 - score: 0.514426\n",
      "Epoch 2/100\n",
      "136323/136323 [==============================] - 1s 8us/step - loss: 0.0863 - acc: 0.9869 - mean_squared_error: 0.0137 - val_loss: 0.0707 - val_acc: 0.9877 - val_mean_squared_error: 0.0121\n",
      "\n",
      "Epoch 00002: saving model to cnncorrectorderweights-improvement-02-0.99.hdf5\n",
      "\n",
      " ROC-AUC - epoch: 2 - score: 0.569035\n",
      "Epoch 3/100\n",
      "136323/136323 [==============================] - 1s 8us/step - loss: 0.0756 - acc: 0.9878 - mean_squared_error: 0.0127 - val_loss: 0.0663 - val_acc: 0.9877 - val_mean_squared_error: 0.0120\n",
      "\n",
      "Epoch 00003: saving model to cnncorrectorderweights-improvement-03-0.99.hdf5\n",
      "\n",
      " ROC-AUC - epoch: 3 - score: 0.597958\n",
      "Epoch 4/100\n",
      "136323/136323 [==============================] - 1s 8us/step - loss: 0.0727 - acc: 0.9878 - mean_squared_error: 0.0125 - val_loss: 0.0656 - val_acc: 0.9877 - val_mean_squared_error: 0.0119\n",
      "\n",
      "Epoch 00004: saving model to cnncorrectorderweights-improvement-04-0.99.hdf5\n",
      "\n",
      " ROC-AUC - epoch: 4 - score: 0.613540\n",
      "Epoch 5/100\n",
      "136323/136323 [==============================] - 1s 8us/step - loss: 0.0703 - acc: 0.9879 - mean_squared_error: 0.0123 - val_loss: 0.0647 - val_acc: 0.9877 - val_mean_squared_error: 0.0119\n",
      "\n",
      "Epoch 00005: saving model to cnncorrectorderweights-improvement-05-0.99.hdf5\n",
      "\n",
      " ROC-AUC - epoch: 5 - score: 0.624748\n",
      "Epoch 6/100\n",
      " 94208/136323 [===================>..........] - ETA: 0s - loss: 0.0673 - acc: 0.9883 - mean_squared_error: 0.0119136323/136323 [==============================] - 1s 8us/step - loss: 0.0685 - acc: 0.9879 - mean_squared_error: 0.0122 - val_loss: 0.0643 - val_acc: 0.9878 - val_mean_squared_error: 0.0118\n",
      "\n",
      "Epoch 00006: saving model to cnncorrectorderweights-improvement-06-0.99.hdf5\n",
      "\n",
      " ROC-AUC - epoch: 6 - score: 0.628568\n",
      "Epoch 7/100\n",
      "136323/136323 [==============================] - 1s 8us/step - loss: 0.0680 - acc: 0.9879 - mean_squared_error: 0.0121 - val_loss: 0.0637 - val_acc: 0.9879 - val_mean_squared_error: 0.0118\n",
      "\n",
      "Epoch 00007: saving model to cnncorrectorderweights-improvement-07-0.99.hdf5\n",
      "\n",
      " ROC-AUC - epoch: 7 - score: 0.637398\n",
      "Epoch 8/100\n",
      "136323/136323 [==============================] - 1s 8us/step - loss: 0.0673 - acc: 0.9879 - mean_squared_error: 0.0121 - val_loss: 0.0634 - val_acc: 0.9878 - val_mean_squared_error: 0.0118\n",
      "\n",
      "Epoch 00008: saving model to cnncorrectorderweights-improvement-08-0.99.hdf5\n",
      "\n",
      " ROC-AUC - epoch: 8 - score: 0.643327\n",
      "Epoch 9/100\n",
      "136323/136323 [==============================] - 1s 8us/step - loss: 0.0669 - acc: 0.9879 - mean_squared_error: 0.0121 - val_loss: 0.0632 - val_acc: 0.9879 - val_mean_squared_error: 0.0118\n",
      "\n",
      "Epoch 00009: saving model to cnncorrectorderweights-improvement-09-0.99.hdf5\n",
      "\n",
      " ROC-AUC - epoch: 9 - score: 0.648922\n",
      "Epoch 10/100\n",
      "136323/136323 [==============================] - 1s 8us/step - loss: 0.0661 - acc: 0.9879 - mean_squared_error: 0.0120 - val_loss: 0.0626 - val_acc: 0.9879 - val_mean_squared_error: 0.0117\n",
      "\n",
      "Epoch 00010: saving model to cnncorrectorderweights-improvement-10-0.99.hdf5\n",
      "\n",
      " ROC-AUC - epoch: 10 - score: 0.651991\n",
      "Epoch 11/100\n",
      "126976/136323 [==========================>...] - ETA: 0s - loss: 0.0662 - acc: 0.9878 - mean_squared_error: 0.0121136323/136323 [==============================] - 1s 8us/step - loss: 0.0658 - acc: 0.9879 - mean_squared_error: 0.0120 - val_loss: 0.0645 - val_acc: 0.9878 - val_mean_squared_error: 0.0118\n",
      "\n",
      "Epoch 00011: saving model to cnncorrectorderweights-improvement-11-0.99.hdf5\n",
      "\n",
      " ROC-AUC - epoch: 11 - score: 0.651365\n",
      "Epoch 12/100\n",
      "136323/136323 [==============================] - 1s 8us/step - loss: 0.0660 - acc: 0.9879 - mean_squared_error: 0.0120 - val_loss: 0.0635 - val_acc: 0.9878 - val_mean_squared_error: 0.0118\n",
      "\n",
      "Epoch 00012: saving model to cnncorrectorderweights-improvement-12-0.99.hdf5\n",
      "\n",
      " ROC-AUC - epoch: 12 - score: 0.659123\n",
      "Epoch 13/100\n",
      "136323/136323 [==============================] - 1s 8us/step - loss: 0.0657 - acc: 0.9878 - mean_squared_error: 0.0120 - val_loss: 0.0626 - val_acc: 0.9879 - val_mean_squared_error: 0.0117\n",
      "\n",
      "Epoch 00013: saving model to cnncorrectorderweights-improvement-13-0.99.hdf5\n",
      "\n",
      " ROC-AUC - epoch: 13 - score: 0.661644\n",
      "Epoch 14/100\n",
      "136323/136323 [==============================] - 1s 8us/step - loss: 0.0653 - acc: 0.9879 - mean_squared_error: 0.0120 - val_loss: 0.0622 - val_acc: 0.9879 - val_mean_squared_error: 0.0117\n",
      "\n",
      "Epoch 00014: saving model to cnncorrectorderweights-improvement-14-0.99.hdf5\n",
      "\n",
      " ROC-AUC - epoch: 14 - score: 0.662442\n",
      "Epoch 15/100\n",
      "136323/136323 [==============================] - 1s 8us/step - loss: 0.0660 - acc: 0.9879 - mean_squared_error: 0.0120 - val_loss: 0.0626 - val_acc: 0.9878 - val_mean_squared_error: 0.0117\n",
      "\n",
      "Epoch 00015: saving model to cnncorrectorderweights-improvement-15-0.99.hdf5\n",
      "\n",
      " ROC-AUC - epoch: 15 - score: 0.663225\n",
      "Epoch 16/100\n",
      "126976/136323 [==========================>...] - ETA: 0s - loss: 0.0662 - acc: 0.9878 - mean_squared_error: 0.0121136323/136323 [==============================] - 1s 8us/step - loss: 0.0659 - acc: 0.9879 - mean_squared_error: 0.0120 - val_loss: 0.0621 - val_acc: 0.9879 - val_mean_squared_error: 0.0117\n",
      "\n",
      "Epoch 00016: saving model to cnncorrectorderweights-improvement-16-0.99.hdf5\n",
      "\n",
      " ROC-AUC - epoch: 16 - score: 0.666586\n",
      "Epoch 17/100\n",
      "136323/136323 [==============================] - 1s 8us/step - loss: 0.0656 - acc: 0.9878 - mean_squared_error: 0.0120 - val_loss: 0.0624 - val_acc: 0.9878 - val_mean_squared_error: 0.0117\n",
      "\n",
      "Epoch 00017: saving model to cnncorrectorderweights-improvement-17-0.99.hdf5\n",
      "\n",
      " ROC-AUC - epoch: 17 - score: 0.668121\n",
      "Epoch 18/100\n",
      "136323/136323 [==============================] - 1s 8us/step - loss: 0.0652 - acc: 0.9879 - mean_squared_error: 0.0120 - val_loss: 0.0622 - val_acc: 0.9879 - val_mean_squared_error: 0.0117\n",
      "\n",
      "Epoch 00018: saving model to cnncorrectorderweights-improvement-18-0.99.hdf5\n",
      "\n",
      " ROC-AUC - epoch: 18 - score: 0.669115\n",
      "Epoch 19/100\n",
      "136323/136323 [==============================] - 1s 8us/step - loss: 0.0653 - acc: 0.9879 - mean_squared_error: 0.0120 - val_loss: 0.0625 - val_acc: 0.9878 - val_mean_squared_error: 0.0118\n",
      "\n",
      "Epoch 00019: saving model to cnncorrectorderweights-improvement-19-0.99.hdf5\n",
      "\n",
      " ROC-AUC - epoch: 19 - score: 0.670196\n",
      "Epoch 20/100\n",
      "136323/136323 [==============================] - 1s 8us/step - loss: 0.0646 - acc: 0.9879 - mean_squared_error: 0.0120 - val_loss: 0.0623 - val_acc: 0.9878 - val_mean_squared_error: 0.0117\n",
      "\n",
      "Epoch 00020: saving model to cnncorrectorderweights-improvement-20-0.99.hdf5\n",
      "\n",
      " ROC-AUC - epoch: 20 - score: 0.670949\n",
      "Epoch 21/100\n",
      "126976/136323 [==========================>...] - ETA: 0s - loss: 0.0651 - acc: 0.9878 - mean_squared_error: 0.0120136323/136323 [==============================] - 1s 8us/step - loss: 0.0649 - acc: 0.9879 - mean_squared_error: 0.0120 - val_loss: 0.0631 - val_acc: 0.9878 - val_mean_squared_error: 0.0118\n",
      "\n",
      "Epoch 00021: saving model to cnncorrectorderweights-improvement-21-0.99.hdf5\n",
      "\n",
      " ROC-AUC - epoch: 21 - score: 0.667588\n",
      "Epoch 22/100\n",
      "136323/136323 [==============================] - 1s 8us/step - loss: 0.0649 - acc: 0.9879 - mean_squared_error: 0.0120 - val_loss: 0.0620 - val_acc: 0.9879 - val_mean_squared_error: 0.0118\n",
      "\n",
      "Epoch 00022: saving model to cnncorrectorderweights-improvement-22-0.99.hdf5\n",
      "\n",
      " ROC-AUC - epoch: 22 - score: 0.672925\n",
      "Epoch 23/100\n",
      "136323/136323 [==============================] - 1s 8us/step - loss: 0.0646 - acc: 0.9879 - mean_squared_error: 0.0119 - val_loss: 0.0620 - val_acc: 0.9878 - val_mean_squared_error: 0.0117\n",
      "\n",
      "Epoch 00023: saving model to cnncorrectorderweights-improvement-23-0.99.hdf5\n",
      "\n",
      " ROC-AUC - epoch: 23 - score: 0.672085\n",
      "Epoch 24/100\n",
      "136323/136323 [==============================] - 1s 8us/step - loss: 0.0650 - acc: 0.9879 - mean_squared_error: 0.0120 - val_loss: 0.0621 - val_acc: 0.9879 - val_mean_squared_error: 0.0118\n",
      "\n",
      "Epoch 00024: saving model to cnncorrectorderweights-improvement-24-0.99.hdf5\n",
      "\n",
      " ROC-AUC - epoch: 24 - score: 0.675008\n",
      "Epoch 25/100\n",
      "136323/136323 [==============================] - 1s 8us/step - loss: 0.0646 - acc: 0.9879 - mean_squared_error: 0.0120 - val_loss: 0.0621 - val_acc: 0.9878 - val_mean_squared_error: 0.0118\n",
      "\n",
      "Epoch 00025: saving model to cnncorrectorderweights-improvement-25-0.99.hdf5\n",
      "\n",
      " ROC-AUC - epoch: 25 - score: 0.673146\n",
      "Epoch 26/100\n"
     ]
    },
    {
     "name": "stdout",
     "output_type": "stream",
     "text": [
      "126976/136323 [==========================>...] - ETA: 0s - loss: 0.0649 - acc: 0.9878 - mean_squared_error: 0.0120136323/136323 [==============================] - 1s 8us/step - loss: 0.0645 - acc: 0.9879 - mean_squared_error: 0.0120 - val_loss: 0.0622 - val_acc: 0.9878 - val_mean_squared_error: 0.0118\n",
      "\n",
      "Epoch 00026: saving model to cnncorrectorderweights-improvement-26-0.99.hdf5\n",
      "\n",
      " ROC-AUC - epoch: 26 - score: 0.675221\n",
      "Epoch 27/100\n",
      "136323/136323 [==============================] - 1s 8us/step - loss: 0.0642 - acc: 0.9879 - mean_squared_error: 0.0119 - val_loss: 0.0622 - val_acc: 0.9878 - val_mean_squared_error: 0.0118\n",
      "\n",
      "Epoch 00027: saving model to cnncorrectorderweights-improvement-27-0.99.hdf5\n",
      "\n",
      " ROC-AUC - epoch: 27 - score: 0.676070\n",
      "Epoch 28/100\n",
      "136323/136323 [==============================] - 1s 8us/step - loss: 0.0644 - acc: 0.9879 - mean_squared_error: 0.0119 - val_loss: 0.0631 - val_acc: 0.9877 - val_mean_squared_error: 0.0118\n",
      "\n",
      "Epoch 00028: saving model to cnncorrectorderweights-improvement-28-0.99.hdf5\n",
      "\n",
      " ROC-AUC - epoch: 28 - score: 0.676730\n",
      "Epoch 29/100\n",
      "136323/136323 [==============================] - 1s 8us/step - loss: 0.0643 - acc: 0.9878 - mean_squared_error: 0.0119 - val_loss: 0.0621 - val_acc: 0.9878 - val_mean_squared_error: 0.0118\n",
      "\n",
      "Epoch 00029: saving model to cnncorrectorderweights-improvement-29-0.99.hdf5\n",
      "\n",
      " ROC-AUC - epoch: 29 - score: 0.677384\n",
      "Epoch 30/100\n",
      "136323/136323 [==============================] - 1s 8us/step - loss: 0.0645 - acc: 0.9879 - mean_squared_error: 0.0119 - val_loss: 0.0623 - val_acc: 0.9878 - val_mean_squared_error: 0.0118\n",
      "\n",
      "Epoch 00030: saving model to cnncorrectorderweights-improvement-30-0.99.hdf5\n",
      "\n",
      " ROC-AUC - epoch: 30 - score: 0.675986\n",
      "Epoch 31/100\n",
      "126976/136323 [==========================>...] - ETA: 0s - loss: 0.0645 - acc: 0.9879 - mean_squared_error: 0.0119136323/136323 [==============================] - 1s 8us/step - loss: 0.0648 - acc: 0.9879 - mean_squared_error: 0.0120 - val_loss: 0.0626 - val_acc: 0.9877 - val_mean_squared_error: 0.0118\n",
      "\n",
      "Epoch 00031: saving model to cnncorrectorderweights-improvement-31-0.99.hdf5\n",
      "\n",
      " ROC-AUC - epoch: 31 - score: 0.675953\n",
      "Epoch 32/100\n",
      "136323/136323 [==============================] - 1s 8us/step - loss: 0.0646 - acc: 0.9878 - mean_squared_error: 0.0119 - val_loss: 0.0620 - val_acc: 0.9878 - val_mean_squared_error: 0.0118\n",
      "\n",
      "Epoch 00032: saving model to cnncorrectorderweights-improvement-32-0.99.hdf5\n",
      "\n",
      " ROC-AUC - epoch: 32 - score: 0.676325\n",
      "Epoch 33/100\n",
      "136323/136323 [==============================] - 1s 8us/step - loss: 0.0650 - acc: 0.9878 - mean_squared_error: 0.0120 - val_loss: 0.0622 - val_acc: 0.9879 - val_mean_squared_error: 0.0118\n",
      "\n",
      "Epoch 00033: saving model to cnncorrectorderweights-improvement-33-0.99.hdf5\n",
      "\n",
      " ROC-AUC - epoch: 33 - score: 0.675934\n",
      "Epoch 34/100\n",
      "136323/136323 [==============================] - 1s 8us/step - loss: 0.0648 - acc: 0.9879 - mean_squared_error: 0.0120 - val_loss: 0.0619 - val_acc: 0.9878 - val_mean_squared_error: 0.0118\n",
      "\n",
      "Epoch 00034: saving model to cnncorrectorderweights-improvement-34-0.99.hdf5\n",
      "\n",
      " ROC-AUC - epoch: 34 - score: 0.678179\n",
      "Epoch 35/100\n",
      "136323/136323 [==============================] - 1s 8us/step - loss: 0.0648 - acc: 0.9879 - mean_squared_error: 0.0120 - val_loss: 0.0632 - val_acc: 0.9877 - val_mean_squared_error: 0.0118\n",
      "\n",
      "Epoch 00035: saving model to cnncorrectorderweights-improvement-35-0.99.hdf5\n",
      "\n",
      " ROC-AUC - epoch: 35 - score: 0.676504\n",
      "Epoch 36/100\n",
      "126976/136323 [==========================>...] - ETA: 0s - loss: 0.0643 - acc: 0.9879 - mean_squared_error: 0.0120136323/136323 [==============================] - 1s 8us/step - loss: 0.0642 - acc: 0.9879 - mean_squared_error: 0.0120 - val_loss: 0.0620 - val_acc: 0.9878 - val_mean_squared_error: 0.0118\n",
      "\n",
      "Epoch 00036: saving model to cnncorrectorderweights-improvement-36-0.99.hdf5\n",
      "\n",
      " ROC-AUC - epoch: 36 - score: 0.678592\n",
      "Epoch 37/100\n",
      "136323/136323 [==============================] - 1s 8us/step - loss: 0.0641 - acc: 0.9879 - mean_squared_error: 0.0119 - val_loss: 0.0620 - val_acc: 0.9878 - val_mean_squared_error: 0.0118\n",
      "\n",
      "Epoch 00037: saving model to cnncorrectorderweights-improvement-37-0.99.hdf5\n",
      "\n",
      " ROC-AUC - epoch: 37 - score: 0.678836\n",
      "Epoch 38/100\n",
      "136323/136323 [==============================] - 1s 8us/step - loss: 0.0638 - acc: 0.9879 - mean_squared_error: 0.0119 - val_loss: 0.0625 - val_acc: 0.9877 - val_mean_squared_error: 0.0118\n",
      "\n",
      "Epoch 00038: saving model to cnncorrectorderweights-improvement-38-0.99.hdf5\n",
      "\n",
      " ROC-AUC - epoch: 38 - score: 0.679381\n",
      "Epoch 39/100\n",
      "136323/136323 [==============================] - 1s 8us/step - loss: 0.0641 - acc: 0.9879 - mean_squared_error: 0.0119 - val_loss: 0.0621 - val_acc: 0.9878 - val_mean_squared_error: 0.0118\n",
      "\n",
      "Epoch 00039: saving model to cnncorrectorderweights-improvement-39-0.99.hdf5\n",
      "\n",
      " ROC-AUC - epoch: 39 - score: 0.679116\n",
      "Epoch 40/100\n",
      "136323/136323 [==============================] - 1s 8us/step - loss: 0.0635 - acc: 0.9879 - mean_squared_error: 0.0119 - val_loss: 0.0621 - val_acc: 0.9878 - val_mean_squared_error: 0.0118\n",
      "\n",
      "Epoch 00040: saving model to cnncorrectorderweights-improvement-40-0.99.hdf5\n",
      "\n",
      " ROC-AUC - epoch: 40 - score: 0.678254\n",
      "Epoch 41/100\n",
      "126976/136323 [==========================>...] - ETA: 0s - loss: 0.0637 - acc: 0.9878 - mean_squared_error: 0.0119136323/136323 [==============================] - 1s 8us/step - loss: 0.0636 - acc: 0.9878 - mean_squared_error: 0.0119 - val_loss: 0.0623 - val_acc: 0.9877 - val_mean_squared_error: 0.0118\n",
      "\n",
      "Epoch 00041: saving model to cnncorrectorderweights-improvement-41-0.99.hdf5\n",
      "\n",
      " ROC-AUC - epoch: 41 - score: 0.680957\n",
      "Epoch 42/100\n",
      "136323/136323 [==============================] - 1s 8us/step - loss: 0.0638 - acc: 0.9879 - mean_squared_error: 0.0119 - val_loss: 0.0621 - val_acc: 0.9877 - val_mean_squared_error: 0.0118\n",
      "\n",
      "Epoch 00042: saving model to cnncorrectorderweights-improvement-42-0.99.hdf5\n",
      "\n",
      " ROC-AUC - epoch: 42 - score: 0.680209\n",
      "Epoch 43/100\n",
      "136323/136323 [==============================] - 1s 8us/step - loss: 0.0645 - acc: 0.9879 - mean_squared_error: 0.0119 - val_loss: 0.0624 - val_acc: 0.9877 - val_mean_squared_error: 0.0118\n",
      "\n",
      "Epoch 00043: saving model to cnncorrectorderweights-improvement-43-0.99.hdf5\n",
      "\n",
      " ROC-AUC - epoch: 43 - score: 0.680685\n",
      "Epoch 44/100\n",
      "136323/136323 [==============================] - 1s 8us/step - loss: 0.0641 - acc: 0.9879 - mean_squared_error: 0.0119 - val_loss: 0.0624 - val_acc: 0.9877 - val_mean_squared_error: 0.0118\n",
      "\n",
      "Epoch 00044: saving model to cnncorrectorderweights-improvement-44-0.99.hdf5\n",
      "\n",
      " ROC-AUC - epoch: 44 - score: 0.678368\n",
      "Epoch 45/100\n",
      "136323/136323 [==============================] - 1s 8us/step - loss: 0.0639 - acc: 0.9879 - mean_squared_error: 0.0119 - val_loss: 0.0620 - val_acc: 0.9878 - val_mean_squared_error: 0.0118\n",
      "\n",
      "Epoch 00045: saving model to cnncorrectorderweights-improvement-45-0.99.hdf5\n",
      "\n",
      " ROC-AUC - epoch: 45 - score: 0.677512\n",
      "Epoch 46/100\n",
      "126976/136323 [==========================>...] - ETA: 0s - loss: 0.0639 - acc: 0.9878 - mean_squared_error: 0.0120136323/136323 [==============================] - 1s 8us/step - loss: 0.0638 - acc: 0.9879 - mean_squared_error: 0.0119 - val_loss: 0.0632 - val_acc: 0.9877 - val_mean_squared_error: 0.0118\n",
      "\n",
      "Epoch 00046: saving model to cnncorrectorderweights-improvement-46-0.99.hdf5\n",
      "\n",
      " ROC-AUC - epoch: 46 - score: 0.677389\n",
      "Epoch 47/100\n",
      "136323/136323 [==============================] - 1s 8us/step - loss: 0.0637 - acc: 0.9879 - mean_squared_error: 0.0119 - val_loss: 0.0625 - val_acc: 0.9877 - val_mean_squared_error: 0.0118\n",
      "\n",
      "Epoch 00047: saving model to cnncorrectorderweights-improvement-47-0.99.hdf5\n",
      "\n",
      " ROC-AUC - epoch: 47 - score: 0.678969\n",
      "Epoch 48/100\n",
      "136323/136323 [==============================] - 1s 8us/step - loss: 0.0635 - acc: 0.9879 - mean_squared_error: 0.0119 - val_loss: 0.0620 - val_acc: 0.9878 - val_mean_squared_error: 0.0118\n",
      "\n",
      "Epoch 00048: saving model to cnncorrectorderweights-improvement-48-0.99.hdf5\n",
      "\n",
      " ROC-AUC - epoch: 48 - score: 0.679630\n",
      "Epoch 49/100\n",
      "136323/136323 [==============================] - 1s 8us/step - loss: 0.0636 - acc: 0.9879 - mean_squared_error: 0.0119 - val_loss: 0.0639 - val_acc: 0.9877 - val_mean_squared_error: 0.0119\n",
      "\n",
      "Epoch 00049: saving model to cnncorrectorderweights-improvement-49-0.99.hdf5\n",
      "\n",
      " ROC-AUC - epoch: 49 - score: 0.677952\n",
      "Epoch 50/100\n",
      "136323/136323 [==============================] - 1s 8us/step - loss: 0.0641 - acc: 0.9879 - mean_squared_error: 0.0119 - val_loss: 0.0621 - val_acc: 0.9877 - val_mean_squared_error: 0.0118\n",
      "\n",
      "Epoch 00050: saving model to cnncorrectorderweights-improvement-50-0.99.hdf5\n",
      "\n",
      " ROC-AUC - epoch: 50 - score: 0.679304\n",
      "Epoch 51/100\n"
     ]
    },
    {
     "name": "stdout",
     "output_type": "stream",
     "text": [
      "126976/136323 [==========================>...] - ETA: 0s - loss: 0.0638 - acc: 0.9878 - mean_squared_error: 0.0119136323/136323 [==============================] - 1s 8us/step - loss: 0.0636 - acc: 0.9879 - mean_squared_error: 0.0119 - val_loss: 0.0622 - val_acc: 0.9877 - val_mean_squared_error: 0.0118\n",
      "\n",
      "Epoch 00051: saving model to cnncorrectorderweights-improvement-51-0.99.hdf5\n",
      "\n",
      " ROC-AUC - epoch: 51 - score: 0.680680\n",
      "Epoch 52/100\n",
      "136323/136323 [==============================] - 1s 8us/step - loss: 0.0638 - acc: 0.9879 - mean_squared_error: 0.0119 - val_loss: 0.0634 - val_acc: 0.9877 - val_mean_squared_error: 0.0119\n",
      "\n",
      "Epoch 00052: saving model to cnncorrectorderweights-improvement-52-0.99.hdf5\n",
      "\n",
      " ROC-AUC - epoch: 52 - score: 0.677011\n",
      "Epoch 53/100\n",
      "136323/136323 [==============================] - 1s 8us/step - loss: 0.0640 - acc: 0.9879 - mean_squared_error: 0.0119 - val_loss: 0.0622 - val_acc: 0.9877 - val_mean_squared_error: 0.0118\n",
      "\n",
      "Epoch 00053: saving model to cnncorrectorderweights-improvement-53-0.99.hdf5\n",
      "\n",
      " ROC-AUC - epoch: 53 - score: 0.675654\n",
      "Epoch 54/100\n",
      "136323/136323 [==============================] - 1s 8us/step - loss: 0.0641 - acc: 0.9879 - mean_squared_error: 0.0119 - val_loss: 0.0620 - val_acc: 0.9878 - val_mean_squared_error: 0.0118\n",
      "\n",
      "Epoch 00054: saving model to cnncorrectorderweights-improvement-54-0.99.hdf5\n",
      "\n",
      " ROC-AUC - epoch: 54 - score: 0.678383\n",
      "Epoch 55/100\n",
      "136323/136323 [==============================] - 1s 8us/step - loss: 0.0635 - acc: 0.9879 - mean_squared_error: 0.0119 - val_loss: 0.0624 - val_acc: 0.9877 - val_mean_squared_error: 0.0118\n",
      "\n",
      "Epoch 00055: saving model to cnncorrectorderweights-improvement-55-0.99.hdf5\n",
      "\n",
      " ROC-AUC - epoch: 55 - score: 0.680847\n",
      "Epoch 56/100\n",
      "126976/136323 [==========================>...] - ETA: 0s - loss: 0.0631 - acc: 0.9880 - mean_squared_error: 0.0117136323/136323 [==============================] - 1s 8us/step - loss: 0.0636 - acc: 0.9879 - mean_squared_error: 0.0119 - val_loss: 0.0620 - val_acc: 0.9878 - val_mean_squared_error: 0.0118\n",
      "\n",
      "Epoch 00056: saving model to cnncorrectorderweights-improvement-56-0.99.hdf5\n",
      "\n",
      " ROC-AUC - epoch: 56 - score: 0.682009\n",
      "Epoch 57/100\n",
      "136323/136323 [==============================] - 1s 8us/step - loss: 0.0633 - acc: 0.9879 - mean_squared_error: 0.0119 - val_loss: 0.0633 - val_acc: 0.9877 - val_mean_squared_error: 0.0118\n",
      "\n",
      "Epoch 00057: saving model to cnncorrectorderweights-improvement-57-0.99.hdf5\n",
      "\n",
      " ROC-AUC - epoch: 57 - score: 0.677441\n",
      "Epoch 58/100\n",
      "136323/136323 [==============================] - 1s 8us/step - loss: 0.0632 - acc: 0.9879 - mean_squared_error: 0.0119 - val_loss: 0.0623 - val_acc: 0.9877 - val_mean_squared_error: 0.0118\n",
      "\n",
      "Epoch 00058: saving model to cnncorrectorderweights-improvement-58-0.99.hdf5\n",
      "\n",
      " ROC-AUC - epoch: 58 - score: 0.679187\n",
      "Epoch 59/100\n",
      "136323/136323 [==============================] - 1s 8us/step - loss: 0.0638 - acc: 0.9879 - mean_squared_error: 0.0119 - val_loss: 0.0621 - val_acc: 0.9877 - val_mean_squared_error: 0.0118\n",
      "\n",
      "Epoch 00059: saving model to cnncorrectorderweights-improvement-59-0.99.hdf5\n",
      "\n",
      " ROC-AUC - epoch: 59 - score: 0.677750\n",
      "Epoch 60/100\n",
      "136323/136323 [==============================] - 1s 8us/step - loss: 0.0634 - acc: 0.9879 - mean_squared_error: 0.0119 - val_loss: 0.0643 - val_acc: 0.9877 - val_mean_squared_error: 0.0119\n",
      "\n",
      "Epoch 00060: saving model to cnncorrectorderweights-improvement-60-0.99.hdf5\n",
      "\n",
      " ROC-AUC - epoch: 60 - score: 0.680704\n",
      "Epoch 61/100\n",
      "126976/136323 [==========================>...] - ETA: 0s - loss: 0.0637 - acc: 0.9879 - mean_squared_error: 0.0119136323/136323 [==============================] - 1s 8us/step - loss: 0.0636 - acc: 0.9879 - mean_squared_error: 0.0119 - val_loss: 0.0634 - val_acc: 0.9877 - val_mean_squared_error: 0.0118\n",
      "\n",
      "Epoch 00061: saving model to cnncorrectorderweights-improvement-61-0.99.hdf5\n",
      "\n",
      " ROC-AUC - epoch: 61 - score: 0.681514\n",
      "Epoch 62/100\n",
      "136323/136323 [==============================] - 1s 8us/step - loss: 0.0635 - acc: 0.9879 - mean_squared_error: 0.0119 - val_loss: 0.0628 - val_acc: 0.9877 - val_mean_squared_error: 0.0118\n",
      "\n",
      "Epoch 00062: saving model to cnncorrectorderweights-improvement-62-0.99.hdf5\n",
      "\n",
      " ROC-AUC - epoch: 62 - score: 0.679480\n",
      "Epoch 63/100\n",
      "136323/136323 [==============================] - 1s 8us/step - loss: 0.0635 - acc: 0.9879 - mean_squared_error: 0.0119 - val_loss: 0.0620 - val_acc: 0.9877 - val_mean_squared_error: 0.0118\n",
      "\n",
      "Epoch 00063: saving model to cnncorrectorderweights-improvement-63-0.99.hdf5\n",
      "\n",
      " ROC-AUC - epoch: 63 - score: 0.684226\n",
      "Epoch 64/100\n",
      "136323/136323 [==============================] - 1s 8us/step - loss: 0.0633 - acc: 0.9879 - mean_squared_error: 0.0119 - val_loss: 0.0633 - val_acc: 0.9877 - val_mean_squared_error: 0.0118\n",
      "\n",
      "Epoch 00064: saving model to cnncorrectorderweights-improvement-64-0.99.hdf5\n",
      "\n",
      " ROC-AUC - epoch: 64 - score: 0.680613\n",
      "Epoch 65/100\n",
      "136323/136323 [==============================] - 1s 8us/step - loss: 0.0635 - acc: 0.9879 - mean_squared_error: 0.0119 - val_loss: 0.0621 - val_acc: 0.9877 - val_mean_squared_error: 0.0118\n",
      "\n",
      "Epoch 00065: saving model to cnncorrectorderweights-improvement-65-0.99.hdf5\n",
      "\n",
      " ROC-AUC - epoch: 65 - score: 0.679712\n",
      "Epoch 66/100\n",
      "126976/136323 [==========================>...] - ETA: 0s - loss: 0.0627 - acc: 0.9879 - mean_squared_error: 0.0118136323/136323 [==============================] - 1s 8us/step - loss: 0.0631 - acc: 0.9879 - mean_squared_error: 0.0118 - val_loss: 0.0625 - val_acc: 0.9877 - val_mean_squared_error: 0.0118\n",
      "\n",
      "Epoch 00066: saving model to cnncorrectorderweights-improvement-66-0.99.hdf5\n",
      "\n",
      " ROC-AUC - epoch: 66 - score: 0.679659\n",
      "Epoch 67/100\n",
      "136323/136323 [==============================] - 1s 8us/step - loss: 0.0637 - acc: 0.9880 - mean_squared_error: 0.0119 - val_loss: 0.0634 - val_acc: 0.9877 - val_mean_squared_error: 0.0118\n",
      "\n",
      "Epoch 00067: saving model to cnncorrectorderweights-improvement-67-0.99.hdf5\n",
      "\n",
      " ROC-AUC - epoch: 67 - score: 0.681691\n",
      "Epoch 68/100\n",
      "136323/136323 [==============================] - 1s 8us/step - loss: 0.0636 - acc: 0.9879 - mean_squared_error: 0.0119 - val_loss: 0.0621 - val_acc: 0.9877 - val_mean_squared_error: 0.0118\n",
      "\n",
      "Epoch 00068: saving model to cnncorrectorderweights-improvement-68-0.99.hdf5\n",
      "\n",
      " ROC-AUC - epoch: 68 - score: 0.681352\n",
      "Epoch 69/100\n",
      "136323/136323 [==============================] - 1s 8us/step - loss: 0.0633 - acc: 0.9879 - mean_squared_error: 0.0118 - val_loss: 0.0622 - val_acc: 0.9877 - val_mean_squared_error: 0.0118\n",
      "\n",
      "Epoch 00069: saving model to cnncorrectorderweights-improvement-69-0.99.hdf5\n",
      "\n",
      " ROC-AUC - epoch: 69 - score: 0.679470\n",
      "Epoch 70/100\n",
      "136323/136323 [==============================] - 1s 8us/step - loss: 0.0628 - acc: 0.9879 - mean_squared_error: 0.0118 - val_loss: 0.0642 - val_acc: 0.9877 - val_mean_squared_error: 0.0119\n",
      "\n",
      "Epoch 00070: saving model to cnncorrectorderweights-improvement-70-0.99.hdf5\n",
      "\n",
      " ROC-AUC - epoch: 70 - score: 0.681946\n",
      "Epoch 71/100\n",
      "126976/136323 [==========================>...] - ETA: 0s - loss: 0.0643 - acc: 0.9879 - mean_squared_error: 0.0119136323/136323 [==============================] - 1s 8us/step - loss: 0.0640 - acc: 0.9879 - mean_squared_error: 0.0119 - val_loss: 0.0623 - val_acc: 0.9877 - val_mean_squared_error: 0.0118\n",
      "\n",
      "Epoch 00071: saving model to cnncorrectorderweights-improvement-71-0.99.hdf5\n",
      "\n",
      " ROC-AUC - epoch: 71 - score: 0.681009\n",
      "Epoch 72/100\n",
      "136323/136323 [==============================] - 1s 8us/step - loss: 0.0630 - acc: 0.9879 - mean_squared_error: 0.0119 - val_loss: 0.0622 - val_acc: 0.9877 - val_mean_squared_error: 0.0118\n",
      "\n",
      "Epoch 00072: saving model to cnncorrectorderweights-improvement-72-0.99.hdf5\n",
      "\n",
      " ROC-AUC - epoch: 72 - score: 0.681669\n",
      "Epoch 73/100\n",
      "136323/136323 [==============================] - 1s 8us/step - loss: 0.0634 - acc: 0.9879 - mean_squared_error: 0.0118 - val_loss: 0.0626 - val_acc: 0.9877 - val_mean_squared_error: 0.0119\n",
      "\n",
      "Epoch 00073: saving model to cnncorrectorderweights-improvement-73-0.99.hdf5\n",
      "\n",
      " ROC-AUC - epoch: 73 - score: 0.680799\n",
      "Epoch 74/100\n",
      "136323/136323 [==============================] - 1s 8us/step - loss: 0.0629 - acc: 0.9879 - mean_squared_error: 0.0118 - val_loss: 0.0621 - val_acc: 0.9877 - val_mean_squared_error: 0.0118\n",
      "\n",
      "Epoch 00074: saving model to cnncorrectorderweights-improvement-74-0.99.hdf5\n",
      "\n",
      " ROC-AUC - epoch: 74 - score: 0.680656\n",
      "Epoch 75/100\n",
      "136323/136323 [==============================] - 1s 8us/step - loss: 0.0628 - acc: 0.9879 - mean_squared_error: 0.0118 - val_loss: 0.0643 - val_acc: 0.9877 - val_mean_squared_error: 0.0119\n",
      "\n",
      "Epoch 00075: saving model to cnncorrectorderweights-improvement-75-0.99.hdf5\n",
      "\n",
      " ROC-AUC - epoch: 75 - score: 0.678038\n",
      "Epoch 76/100\n"
     ]
    },
    {
     "name": "stdout",
     "output_type": "stream",
     "text": [
      "126976/136323 [==========================>...] - ETA: 0s - loss: 0.0633 - acc: 0.9879 - mean_squared_error: 0.0118136323/136323 [==============================] - 1s 8us/step - loss: 0.0632 - acc: 0.9879 - mean_squared_error: 0.0118 - val_loss: 0.0626 - val_acc: 0.9877 - val_mean_squared_error: 0.0118\n",
      "\n",
      "Epoch 00076: saving model to cnncorrectorderweights-improvement-76-0.99.hdf5\n",
      "\n",
      " ROC-AUC - epoch: 76 - score: 0.681134\n",
      "Epoch 77/100\n",
      "136323/136323 [==============================] - 1s 8us/step - loss: 0.0627 - acc: 0.9879 - mean_squared_error: 0.0118 - val_loss: 0.0623 - val_acc: 0.9877 - val_mean_squared_error: 0.0118\n",
      "\n",
      "Epoch 00077: saving model to cnncorrectorderweights-improvement-77-0.99.hdf5\n",
      "\n",
      " ROC-AUC - epoch: 77 - score: 0.682346\n",
      "Epoch 78/100\n",
      "136323/136323 [==============================] - 1s 8us/step - loss: 0.0626 - acc: 0.9879 - mean_squared_error: 0.0118 - val_loss: 0.0643 - val_acc: 0.9877 - val_mean_squared_error: 0.0119\n",
      "\n",
      "Epoch 00078: saving model to cnncorrectorderweights-improvement-78-0.99.hdf5\n",
      "\n",
      " ROC-AUC - epoch: 78 - score: 0.683919\n",
      "Epoch 79/100\n",
      "136323/136323 [==============================] - 1s 8us/step - loss: 0.0629 - acc: 0.9879 - mean_squared_error: 0.0118 - val_loss: 0.0624 - val_acc: 0.9877 - val_mean_squared_error: 0.0118\n",
      "\n",
      "Epoch 00079: saving model to cnncorrectorderweights-improvement-79-0.99.hdf5\n",
      "\n",
      " ROC-AUC - epoch: 79 - score: 0.681405\n",
      "Epoch 80/100\n",
      "136323/136323 [==============================] - 1s 8us/step - loss: 0.0634 - acc: 0.9879 - mean_squared_error: 0.0118 - val_loss: 0.0625 - val_acc: 0.9878 - val_mean_squared_error: 0.0119\n",
      "\n",
      "Epoch 00080: saving model to cnncorrectorderweights-improvement-80-0.99.hdf5\n",
      "\n",
      " ROC-AUC - epoch: 80 - score: 0.678898\n",
      "Epoch 81/100\n",
      "126976/136323 [==========================>...] - ETA: 0s - loss: 0.0628 - acc: 0.9879 - mean_squared_error: 0.0118136323/136323 [==============================] - 1s 8us/step - loss: 0.0627 - acc: 0.9879 - mean_squared_error: 0.0118 - val_loss: 0.0628 - val_acc: 0.9877 - val_mean_squared_error: 0.0119\n",
      "\n",
      "Epoch 00081: saving model to cnncorrectorderweights-improvement-81-0.99.hdf5\n",
      "\n",
      " ROC-AUC - epoch: 81 - score: 0.676725\n",
      "Epoch 82/100\n",
      "136323/136323 [==============================] - 1s 8us/step - loss: 0.0642 - acc: 0.9879 - mean_squared_error: 0.0119 - val_loss: 0.0620 - val_acc: 0.9877 - val_mean_squared_error: 0.0118\n",
      "\n",
      "Epoch 00082: saving model to cnncorrectorderweights-improvement-82-0.99.hdf5\n",
      "\n",
      " ROC-AUC - epoch: 82 - score: 0.682134\n",
      "Epoch 83/100\n",
      "136323/136323 [==============================] - 1s 8us/step - loss: 0.0640 - acc: 0.9879 - mean_squared_error: 0.0119 - val_loss: 0.0628 - val_acc: 0.9877 - val_mean_squared_error: 0.0118\n",
      "\n",
      "Epoch 00083: saving model to cnncorrectorderweights-improvement-83-0.99.hdf5\n",
      "\n",
      " ROC-AUC - epoch: 83 - score: 0.681643\n",
      "Epoch 84/100\n",
      "136323/136323 [==============================] - 1s 8us/step - loss: 0.0628 - acc: 0.9879 - mean_squared_error: 0.0118 - val_loss: 0.0620 - val_acc: 0.9877 - val_mean_squared_error: 0.0118\n",
      "\n",
      "Epoch 00084: saving model to cnncorrectorderweights-improvement-84-0.99.hdf5\n",
      "\n",
      " ROC-AUC - epoch: 84 - score: 0.682750\n",
      "Epoch 85/100\n",
      "136323/136323 [==============================] - 1s 8us/step - loss: 0.0627 - acc: 0.9879 - mean_squared_error: 0.0118 - val_loss: 0.0629 - val_acc: 0.9877 - val_mean_squared_error: 0.0118\n",
      "\n",
      "Epoch 00085: saving model to cnncorrectorderweights-improvement-85-0.99.hdf5\n",
      "\n",
      " ROC-AUC - epoch: 85 - score: 0.680747\n",
      "Epoch 86/100\n",
      "126976/136323 [==========================>...] - ETA: 0s - loss: 0.0628 - acc: 0.9878 - mean_squared_error: 0.0119136323/136323 [==============================] - 1s 8us/step - loss: 0.0625 - acc: 0.9879 - mean_squared_error: 0.0118 - val_loss: 0.0629 - val_acc: 0.9877 - val_mean_squared_error: 0.0118\n",
      "\n",
      "Epoch 00086: saving model to cnncorrectorderweights-improvement-86-0.99.hdf5\n",
      "\n",
      " ROC-AUC - epoch: 86 - score: 0.682720\n",
      "Epoch 87/100\n",
      "136323/136323 [==============================] - 1s 8us/step - loss: 0.0625 - acc: 0.9879 - mean_squared_error: 0.0118 - val_loss: 0.0622 - val_acc: 0.9877 - val_mean_squared_error: 0.0118\n",
      "\n",
      "Epoch 00087: saving model to cnncorrectorderweights-improvement-87-0.99.hdf5\n",
      "\n",
      " ROC-AUC - epoch: 87 - score: 0.683029\n",
      "Epoch 88/100\n",
      "136323/136323 [==============================] - 1s 8us/step - loss: 0.0629 - acc: 0.9879 - mean_squared_error: 0.0118 - val_loss: 0.0622 - val_acc: 0.9877 - val_mean_squared_error: 0.0118\n",
      "\n",
      "Epoch 00088: saving model to cnncorrectorderweights-improvement-88-0.99.hdf5\n",
      "\n",
      " ROC-AUC - epoch: 88 - score: 0.678612\n",
      "Epoch 89/100\n",
      "136323/136323 [==============================] - 1s 8us/step - loss: 0.0628 - acc: 0.9879 - mean_squared_error: 0.0118 - val_loss: 0.0623 - val_acc: 0.9877 - val_mean_squared_error: 0.0119\n",
      "\n",
      "Epoch 00089: saving model to cnncorrectorderweights-improvement-89-0.99.hdf5\n",
      "\n",
      " ROC-AUC - epoch: 89 - score: 0.684793\n",
      "Epoch 90/100\n",
      "136323/136323 [==============================] - 1s 8us/step - loss: 0.0632 - acc: 0.9879 - mean_squared_error: 0.0118 - val_loss: 0.0621 - val_acc: 0.9877 - val_mean_squared_error: 0.0118\n",
      "\n",
      "Epoch 00090: saving model to cnncorrectorderweights-improvement-90-0.99.hdf5\n",
      "\n",
      " ROC-AUC - epoch: 90 - score: 0.682303\n",
      "Epoch 91/100\n",
      "126976/136323 [==========================>...] - ETA: 0s - loss: 0.0628 - acc: 0.9879 - mean_squared_error: 0.0118136323/136323 [==============================] - 1s 8us/step - loss: 0.0627 - acc: 0.9879 - mean_squared_error: 0.0118 - val_loss: 0.0641 - val_acc: 0.9877 - val_mean_squared_error: 0.0119\n",
      "\n",
      "Epoch 00091: saving model to cnncorrectorderweights-improvement-91-0.99.hdf5\n",
      "\n",
      " ROC-AUC - epoch: 91 - score: 0.679642\n",
      "Epoch 92/100\n",
      "136323/136323 [==============================] - 1s 8us/step - loss: 0.0629 - acc: 0.9879 - mean_squared_error: 0.0118 - val_loss: 0.0620 - val_acc: 0.9877 - val_mean_squared_error: 0.0118\n",
      "\n",
      "Epoch 00092: saving model to cnncorrectorderweights-improvement-92-0.99.hdf5\n",
      "\n",
      " ROC-AUC - epoch: 92 - score: 0.683056\n",
      "Epoch 93/100\n",
      "136323/136323 [==============================] - 1s 8us/step - loss: 0.0622 - acc: 0.9879 - mean_squared_error: 0.0118 - val_loss: 0.0627 - val_acc: 0.9877 - val_mean_squared_error: 0.0118\n",
      "\n",
      "Epoch 00093: saving model to cnncorrectorderweights-improvement-93-0.99.hdf5\n",
      "\n",
      " ROC-AUC - epoch: 93 - score: 0.684233\n",
      "Epoch 94/100\n",
      "136323/136323 [==============================] - 1s 8us/step - loss: 0.0627 - acc: 0.9880 - mean_squared_error: 0.0118 - val_loss: 0.0629 - val_acc: 0.9877 - val_mean_squared_error: 0.0118\n",
      "\n",
      "Epoch 00094: saving model to cnncorrectorderweights-improvement-94-0.99.hdf5\n",
      "\n",
      " ROC-AUC - epoch: 94 - score: 0.683366\n",
      "Epoch 95/100\n",
      "136323/136323 [==============================] - 1s 8us/step - loss: 0.0620 - acc: 0.9879 - mean_squared_error: 0.0118 - val_loss: 0.0625 - val_acc: 0.9877 - val_mean_squared_error: 0.0119\n",
      "\n",
      "Epoch 00095: saving model to cnncorrectorderweights-improvement-95-0.99.hdf5\n",
      "\n",
      " ROC-AUC - epoch: 95 - score: 0.681073\n",
      "Epoch 96/100\n",
      "126976/136323 [==========================>...] - ETA: 0s - loss: 0.0630 - acc: 0.9879 - mean_squared_error: 0.0118136323/136323 [==============================] - 1s 8us/step - loss: 0.0627 - acc: 0.9879 - mean_squared_error: 0.0118 - val_loss: 0.0637 - val_acc: 0.9877 - val_mean_squared_error: 0.0119\n",
      "\n",
      "Epoch 00096: saving model to cnncorrectorderweights-improvement-96-0.99.hdf5\n",
      "\n",
      " ROC-AUC - epoch: 96 - score: 0.682959\n",
      "Epoch 97/100\n",
      "136323/136323 [==============================] - 1s 8us/step - loss: 0.0628 - acc: 0.9880 - mean_squared_error: 0.0118 - val_loss: 0.0626 - val_acc: 0.9877 - val_mean_squared_error: 0.0118\n",
      "\n",
      "Epoch 00097: saving model to cnncorrectorderweights-improvement-97-0.99.hdf5\n",
      "\n",
      " ROC-AUC - epoch: 97 - score: 0.682734\n",
      "Epoch 98/100\n",
      "136323/136323 [==============================] - 1s 8us/step - loss: 0.0625 - acc: 0.9879 - mean_squared_error: 0.0118 - val_loss: 0.0629 - val_acc: 0.9877 - val_mean_squared_error: 0.0119\n",
      "\n",
      "Epoch 00098: saving model to cnncorrectorderweights-improvement-98-0.99.hdf5\n",
      "\n",
      " ROC-AUC - epoch: 98 - score: 0.679717\n",
      "Epoch 99/100\n",
      "136323/136323 [==============================] - 1s 8us/step - loss: 0.0623 - acc: 0.9879 - mean_squared_error: 0.0118 - val_loss: 0.0625 - val_acc: 0.9877 - val_mean_squared_error: 0.0118\n",
      "\n",
      "Epoch 00099: saving model to cnncorrectorderweights-improvement-99-0.99.hdf5\n",
      "\n",
      " ROC-AUC - epoch: 99 - score: 0.683175\n",
      "Epoch 100/100\n",
      "136323/136323 [==============================] - 1s 8us/step - loss: 0.0626 - acc: 0.9879 - mean_squared_error: 0.0118 - val_loss: 0.0622 - val_acc: 0.9877 - val_mean_squared_error: 0.0118\n",
      "\n",
      "Epoch 00100: saving model to cnncorrectorderweights-improvement-100-0.99.hdf5\n",
      "\n",
      " ROC-AUC - epoch: 100 - score: 0.685065\n"
     ]
    },
    {
     "data": {
      "text/plain": [
       "<keras.callbacks.History at 0x7f629bf3bb50>"
      ]
     },
     "execution_count": 186,
     "metadata": {
      "tags": []
     },
     "output_type": "execute_result"
    }
   ],
   "source": [
    "keras_model2.fit(xtrain,ytrain, epochs=29, validation_data=(xval,yval),\n",
    "          batch_size=1024, callbacks = callbacks_list,verbose=1)"
   ]
  },
  {
   "cell_type": "code",
   "execution_count": 0,
   "metadata": {
    "colab": {
     "autoexec": {
      "startup": false,
      "wait_interval": 0
     }
    },
    "colab_type": "code",
    "id": "e4z-mBLPKyQq"
   },
   "outputs": [],
   "source": [
    "  from keras.models import model_from_json\n",
    "# keras_model2= model_from_json(pickle.load(open('lstm2fea100.pkl')))\n",
    "# keras_model2.load_weights('lstmcorrectorderweights-improvement-24-0.99.hdf5')"
   ]
  },
  {
   "cell_type": "code",
   "execution_count": 0,
   "metadata": {
    "colab": {
     "autoexec": {
      "startup": false,
      "wait_interval": 0
     }
    },
    "colab_type": "code",
    "id": "xHgiafvmKyRY"
   },
   "outputs": [],
   "source": [
    "nnpred=keras_model2.predict(sequences_ori)"
   ]
  },
  {
   "cell_type": "code",
   "execution_count": 0,
   "metadata": {
    "colab": {
     "autoexec": {
      "startup": false,
      "wait_interval": 0
     }
    },
    "colab_type": "code",
    "id": "hLG63_X1KyRf"
   },
   "outputs": [],
   "source": [
    "snn= sentences.reset_index()"
   ]
  },
  {
   "cell_type": "code",
   "execution_count": 164,
   "metadata": {
    "colab": {
     "autoexec": {
      "startup": false,
      "wait_interval": 0
     },
     "base_uri": "https://localhost:8080/",
     "height": 34,
     "output_extras": [
      {
       "item_id": 1
      }
     ]
    },
    "colab_type": "code",
    "executionInfo": {
     "elapsed": 830,
     "status": "ok",
     "timestamp": 1522578652745,
     "user": {
      "displayName": "Akash Gupta",
      "photoUrl": "//lh4.googleusercontent.com/-lbaoCqdKDCg/AAAAAAAAAAI/AAAAAAAAMhQ/YGRqD6U9Se8/s50-c-k-no/photo.jpg",
      "userId": "111901583339877553911"
     },
     "user_tz": -330
    },
    "id": "ic8PLfrgKyRi",
    "outputId": "2d09df8f-dccd-42d4-db7a-3313b30108b0"
   },
   "outputs": [
    {
     "data": {
      "text/plain": [
       "((168236, 2), (168236, 1), (168236,))"
      ]
     },
     "execution_count": 164,
     "metadata": {
      "tags": []
     },
     "output_type": "execute_result"
    }
   ],
   "source": [
    "snn.shape, nnpred.shape , sentences.shape"
   ]
  },
  {
   "cell_type": "code",
   "execution_count": 0,
   "metadata": {
    "colab": {
     "autoexec": {
      "startup": false,
      "wait_interval": 0
     }
    },
    "colab_type": "code",
    "id": "yEUZfFu2KyRp"
   },
   "outputs": [],
   "source": [
    "snn['pred']= nnpred"
   ]
  },
  {
   "cell_type": "code",
   "execution_count": 0,
   "metadata": {
    "colab": {
     "autoexec": {
      "startup": false,
      "wait_interval": 0
     }
    },
    "colab_type": "code",
    "id": "1Z4rSIt6KyT3"
   },
   "outputs": [],
   "source": [
    "test_df['send_date']= pd.to_datetime(test_df.send_date,format=\"%d-%m-%Y %H:%M\")"
   ]
  },
  {
   "cell_type": "code",
   "execution_count": 0,
   "metadata": {
    "colab": {
     "autoexec": {
      "startup": false,
      "wait_interval": 0
     }
    },
    "colab_type": "code",
    "id": "W9dTls-JKyT-"
   },
   "outputs": [],
   "source": [
    "test_df['send_week']=test_df.send_date.dt.week\n",
    "test_df['send_day']= test_df.send_date.dt.day\n",
    "test_df['send_hour']= test_df.send_date.dt.hour\n",
    "test_df['send_hour']=(test_df.send_hour/6).astype('int')\n",
    "test_df['send_weekday']=test_df.send_date.dt.weekday\n",
    "# pred_nn=test_df.merge(snn,how='left').groupby(['campaign_id','send_weekday']).pred.apply(lambda x: x.fillna(x.mean()))"
   ]
  },
  {
   "cell_type": "code",
   "execution_count": 0,
   "metadata": {
    "colab": {
     "autoexec": {
      "startup": false,
      "wait_interval": 0
     }
    },
    "colab_type": "code",
    "id": "0jz0ZX4FKyRw"
   },
   "outputs": [],
   "source": [
    "pred_nn=test_df.merge(snn,how='left').groupby(['campaign_id','send_weekday',\n",
    "                                               'send_hour']).pred.apply(lambda x: x.fillna((x.quantile(0.9))))"
   ]
  },
  {
   "cell_type": "code",
   "execution_count": 0,
   "metadata": {
    "colab": {
     "autoexec": {
      "startup": false,
      "wait_interval": 0
     }
    },
    "colab_type": "code",
    "id": "3_b70e7aKyR2"
   },
   "outputs": [],
   "source": [
    "submission= pd.read_csv('sample_submission_4fcZwvQ.csv')\n",
    "submission.is_click = pred_nn\n",
    "submission.to_csv('submission_lstm.csv',index=False)"
   ]
  }
 ],
 "metadata": {
  "accelerator": "GPU",
  "colab": {
   "collapsed_sections": [],
   "default_view": {},
   "name": "Copy of Untitled-Copy1.ipynb",
   "provenance": [
    {
     "file_id": "1hznci-bKqi_hiGI3cTFlhZkB4s6fWc1G",
     "timestamp": 1522527298306
    }
   ],
   "version": "0.3.2",
   "views": {}
  },
  "kernelspec": {
   "display_name": "Python 2",
   "language": "python",
   "name": "python2"
  },
  "language_info": {
   "codemirror_mode": {
    "name": "ipython",
    "version": 2
   },
   "file_extension": ".py",
   "mimetype": "text/x-python",
   "name": "python",
   "nbconvert_exporter": "python",
   "pygments_lexer": "ipython2",
   "version": "2.7.13"
  }
 },
 "nbformat": 4,
 "nbformat_minor": 1
}
